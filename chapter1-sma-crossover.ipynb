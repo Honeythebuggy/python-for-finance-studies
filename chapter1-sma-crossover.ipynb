{
 "cells": [
  {
   "cell_type": "code",
   "execution_count": null,
   "id": "2a9aa2a9",
   "metadata": {},
   "outputs": [
    {
     "ename": "ModuleNotFoundError",
     "evalue": "No module named 'yfinance'",
     "output_type": "error",
     "traceback": [
      "\u001b[1;31m---------------------------------------------------------------------------\u001b[0m",
      "\u001b[1;31mModuleNotFoundError\u001b[0m                       Traceback (most recent call last)",
      "Cell \u001b[1;32mIn[1], line 1\u001b[0m\n\u001b[1;32m----> 1\u001b[0m \u001b[38;5;28;01mimport\u001b[39;00m\u001b[38;5;250m \u001b[39m\u001b[38;5;21;01myfinance\u001b[39;00m\u001b[38;5;250m \u001b[39m\u001b[38;5;28;01mas\u001b[39;00m\u001b[38;5;250m \u001b[39m\u001b[38;5;21;01myf\u001b[39;00m\n\u001b[0;32m      2\u001b[0m \u001b[38;5;28;01mimport\u001b[39;00m\u001b[38;5;250m \u001b[39m\u001b[38;5;21;01mpanda\u001b[39;00m\u001b[38;5;250m \u001b[39m\u001b[38;5;28;01mas\u001b[39;00m\u001b[38;5;250m \u001b[39m\u001b[38;5;21;01mpd\u001b[39;00m\n\u001b[0;32m      3\u001b[0m \u001b[38;5;28;01mimport\u001b[39;00m\u001b[38;5;250m \u001b[39m\u001b[38;5;21;01mmatplotlib\u001b[39;00m\u001b[38;5;21;01m.\u001b[39;00m\u001b[38;5;21;01mpyplot\u001b[39;00m\u001b[38;5;250m \u001b[39m\u001b[38;5;28;01mas\u001b[39;00m\u001b[38;5;250m \u001b[39m\u001b[38;5;21;01mplt\u001b[39;00m\n",
      "\u001b[1;31mModuleNotFoundError\u001b[0m: No module named 'yfinance'"
     ]
    }
   ],
   "source": [
    "import yfinance as yf\n",
    "import pandas as pd\n",
    "import matplotlib.pyplot as plt\n",
    "#download spy data\n",
    "spy = yf.download( 'SPY', start='2018-01-01', end='2023-01-01')\n",
    "\n",
    "#calculate 20 days and 50 days moving average\n",
    "spy['SMA20'] = spy ['Close'].rolling(window=20).mean()\n",
    "spy['SMA50'] = spy['Close'].rolling(window=50).mean()\n",
    "\n",
    "#Initialize signal column\n",
    "spy['signal'] = 0\n",
    "\n",
    "#Buy signal when SMA20 crosses above SMA50 \n",
    "spy.loc[20:, 'signal'] = (spy['SMA20'][20:] > spy['SMA50'][20:]).astype(int)\n",
    "\n",
    "#Position: when signal changes (crossover points)\n",
    "spy['position'] = spy['signal'].diff()\n",
    "\n",
    "#plot\n",
    "plt.figure(figsize=(12,16))\n",
    "plt.plot(spy['close'], label='spy Close')\n",
    "plt.plot(spy['SMA20'], label='SMA20')\n",
    "plt.plot(spy['SMA50'], label='SMA50')\n",
    "plt.title(\"spy with 20/50 SMA crossover\")\n",
    "plt.legend()\n",
    "plt.show()"
   ]
  }
 ],
 "metadata": {
  "kernelspec": {
   "display_name": "base",
   "language": "python",
   "name": "python3"
  },
  "language_info": {
   "codemirror_mode": {
    "name": "ipython",
    "version": 3
   },
   "file_extension": ".py",
   "mimetype": "text/x-python",
   "name": "python",
   "nbconvert_exporter": "python",
   "pygments_lexer": "ipython3",
   "version": "3.10.16"
  }
 },
 "nbformat": 4,
 "nbformat_minor": 5
}
