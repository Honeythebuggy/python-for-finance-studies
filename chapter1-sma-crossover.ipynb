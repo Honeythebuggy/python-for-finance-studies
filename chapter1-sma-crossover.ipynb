{
 "cells": [
  {
   "cell_type": "code",
   "execution_count": null,
   "id": "2a9aa2a9",
   "metadata": {},
   "outputs": [],
   "source": [
    "import yfinance as yf\n",
    "import panda as pd\n",
    "import matplotlib.pyplot as plt\n",
    "#download spy data\n",
    "spy = yf.download( 'SPY', Start='2018-01-01', end='2023-01-01')\n",
    "\n",
    "#calculate 20 days and 50 days moving average\n",
    "spy['SMA20'] = spy ['close'].rolling(window=20).mean()\n",
    "spy['SMA50'] = spy['Close'].rolling(window=50).mean()\n",
    "\n",
    "#plot\n",
    "plt.figure(figsize=(12,16))\n",
    "plt.plot(spy['close'], label='spy close')\n",
    "plt.plot(spy['SMA20'], label='SMA20')\n",
    "plt.plot(spy['SMA50'], label='SMA50')\n",
    "plt.title(\"spy with 20/50 SMA crossover\")\n",
    "plt.legend()\n",
    "plt.show()"
   ]
  }
 ],
 "metadata": {
  "language_info": {
   "name": "python"
  }
 },
 "nbformat": 4,
 "nbformat_minor": 5
}
